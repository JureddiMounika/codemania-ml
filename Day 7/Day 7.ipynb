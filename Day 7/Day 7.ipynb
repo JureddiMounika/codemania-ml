{
 "cells": [
  {
   "cell_type": "code",
   "execution_count": 17,
   "metadata": {},
   "outputs": [
    {
     "name": "stdout",
     "output_type": "stream",
     "text": [
      "[0.37753539]\n",
      "[[ 1.67274993  0.00872213  0.11647451 -0.01030468 -0.10796207 -0.30913949\n",
      "  -0.51622315 -0.26369891 -0.13822241 -0.0068592   0.04387812  1.23436971\n",
      "   0.16047546 -0.09408015 -0.01491595 -0.00528116 -0.07626446 -0.03520542\n",
      "   0.00559984  0.00273053  1.52780221 -0.26080093 -0.25481948 -0.02047835\n",
      "  -0.22598449 -1.03267953 -1.52752501 -0.53954205 -0.31915221 -0.1027667 ]]\n"
     ]
    },
    {
     "name": "stderr",
     "output_type": "stream",
     "text": [
      "/usr/local/lib/python3.6/dist-packages/sklearn/linear_model/logistic.py:432: FutureWarning: Default solver will be changed to 'lbfgs' in 0.22. Specify a solver to silence this warning.\n",
      "  FutureWarning)\n"
     ]
    }
   ],
   "source": [
    "from sklearn.datasets import load_breast_cancer\n",
    "from sklearn.model_selection import train_test_split\n",
    "import pandas as pd\n",
    "cancer = load_breast_cancer()\n",
    "df = pd.DataFrame(cancer.data, columns = cancer.feature_names)\n",
    "df[\"Target\"] = cancer.target\n",
    "# print(pd.crosstab(df[\"Target\"], [0,1]))\n",
    "x_train, x_test, y_train, y_test = train_test_split(cancer.data, cancer.target,\n",
    "                                                   test_size = 0.25, random_state = 2019, \n",
    "                                                   stratify = cancer.target)\n",
    "\n",
    "from sklearn.linear_model import LogisticRegression\n",
    "model = LogisticRegression()\n",
    "model.fit(x_train, y_train)\n",
    "print(model.intercept_)\n",
    "print(model.coef_)\n"
   ]
  },
  {
   "cell_type": "code",
   "execution_count": 26,
   "metadata": {},
   "outputs": [
    {
     "name": "stdout",
     "output_type": "stream",
     "text": [
      "   Malignant    Benign  Prediction  Original\n",
      "0   0.000488  0.999512           1         1\n",
      "1   0.366572  0.633428           1         0\n",
      "2   0.999985  0.000015           0         0\n",
      "3   0.002525  0.997475           1         1\n",
      "4   0.026336  0.973664           1         1\n",
      "[[48  5]\n",
      " [ 2 88]]\n"
     ]
    },
    {
     "data": {
      "text/plain": [
       "0.951048951048951"
      ]
     },
     "execution_count": 26,
     "metadata": {},
     "output_type": "execute_result"
    }
   ],
   "source": [
    "from sklearn.metrics import confusion_matrix\n",
    "predict = model.predict(x_test)\n",
    "predict_prb = model.predict_proba(x_test)\n",
    "\n",
    "df = pd.DataFrame(predict_prb, columns = [\"Malignant\", \"Benign\"] )\n",
    "df[\"Prediction\"] = predict\n",
    "df[\"Original\"] = y_test \n",
    "print(df.head())\n",
    "print(confusion_matrix(y_test, predict))\n",
    "pd.crosstab(df[\"Prediction\"], df[\"Original\"])\n",
    "\n",
    "model.score(x_test, y_test)\n"
   ]
  },
  {
   "cell_type": "code",
   "execution_count": null,
   "metadata": {},
   "outputs": [],
   "source": []
  }
 ],
 "metadata": {
  "kernelspec": {
   "display_name": "Python 3",
   "language": "python",
   "name": "python3"
  },
  "language_info": {
   "codemirror_mode": {
    "name": "ipython",
    "version": 3
   },
   "file_extension": ".py",
   "mimetype": "text/x-python",
   "name": "python",
   "nbconvert_exporter": "python",
   "pygments_lexer": "ipython3",
   "version": "3.6.7"
  }
 },
 "nbformat": 4,
 "nbformat_minor": 2
}
